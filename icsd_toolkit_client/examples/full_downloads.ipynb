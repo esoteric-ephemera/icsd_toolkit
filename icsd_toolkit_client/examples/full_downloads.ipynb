{
 "cells": [
  {
   "cell_type": "code",
   "execution_count": null,
   "id": "0",
   "metadata": {},
   "outputs": [],
   "source": [
    "from dotenv import load_dotenv\n",
    "\n",
    "load_dotenv()\n",
    "\n",
    "from icsd_toolkit.client import IcsdClient\n",
    "from icsd_toolkit.client.enums import IcsdSubset\n",
    "from icsd_toolkit.client.schemas import IcsdPropertyDoc\n",
    "\n",
    "import pandas as pd\n",
    "from tqdm import tqdm\n",
    "\n",
    "space_group_numbers = list(range(1, 231))"
   ]
  },
  {
   "cell_type": "code",
   "execution_count": null,
   "id": "1",
   "metadata": {},
   "outputs": [],
   "source": [
    "for subset in [\n",
    "    IcsdSubset.EXPERIMENTAL_METALORGANIC,\n",
    "    IcsdSubset.EXPERIMENTAL_INORGANIC,\n",
    "]:  # sorted(IcsdSubset,reverse=True, key = lambda k : k.value):\n",
    "    data = []\n",
    "    with IcsdClient(use_document_model=False) as icsd_client:\n",
    "        data += icsd_client.search(\n",
    "            subset=subset,\n",
    "            space_group_number=(1, 230),\n",
    "            include_cif=True,\n",
    "            include_metadata=False,\n",
    "        )\n",
    "\n",
    "    df = pd.DataFrame([IcsdPropertyDoc(**doc).model_dump() for doc in data])\n",
    "    df = df.sort_values(\"collection_code\")\n",
    "    df = df.reset_index()\n",
    "    df.to_parquet(f\"{subset.value}.parquet\")"
   ]
  }
 ],
 "metadata": {
  "language_info": {
   "codemirror_mode": {
    "name": "ipython",
    "version": 3
   },
   "file_extension": ".py",
   "mimetype": "text/x-python",
   "name": "python",
   "nbconvert_exporter": "python",
   "pygments_lexer": "ipython3",
   "version": "3.11.0"
  }
 },
 "nbformat": 4,
 "nbformat_minor": 5
}
